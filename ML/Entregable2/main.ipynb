{
 "cells": [
  {
   "cell_type": "markdown",
   "metadata": {},
   "source": [
    "# Uso de framework o biblioteca de aprendizaje máquina para la implementación de una solución"
   ]
  },
  {
   "cell_type": "code",
   "execution_count": null,
   "metadata": {},
   "outputs": [],
   "source": [
    "# Importacion de librerias\n",
    "import pandas as pd\n",
    "from sklearn import tree\n",
    "from sklearn.tree import DecisionTreeClassifier\n",
    "from sklearn.model_selection import train_test_split\n",
    "from sklearn.metrics import accuracy_score, confusion_matrix, f1_score"
   ]
  },
  {
   "cell_type": "code",
   "execution_count": null,
   "metadata": {},
   "outputs": [],
   "source": [
    "#Lectura de dataset \"diabetes_dataset.csv\"\n",
    "df = pd.read_csv(\"diabetes_dataset.csv\")\n",
    "df.info()"
   ]
  },
  {
   "cell_type": "code",
   "execution_count": null,
   "metadata": {},
   "outputs": [],
   "source": [
    "# Se hace la division de las columnas para poder obtener los datos necesarios para hacer el entrenamiento y las pruebas\n",
    "x = df.drop([\"Outcome\"], axis=1)\n",
    "y = df.Outcome"
   ]
  },
  {
   "cell_type": "markdown",
   "metadata": {},
   "source": [
    "## Entrenamiento"
   ]
  },
  {
   "cell_type": "code",
   "execution_count": null,
   "metadata": {},
   "outputs": [],
   "source": [
    "#Aplicando la separacion de los datos para el test y el train\n",
    "x_train, x_test, y_train, y_test = train_test_split(x, y, test_size=0.2, random_state=42)"
   ]
  },
  {
   "cell_type": "code",
   "execution_count": null,
   "metadata": {},
   "outputs": [],
   "source": [
    "#Parametros con Entropy y Max_depth 4\n",
    "myTree1 = DecisionTreeClassifier(criterion=\"entropy\", max_depth = 4)\n",
    "#Se entrena el Decision Tree Classifier\n",
    "myTree1.fit(x_train,y_train)\n",
    "#Aqui se predice la respuesta para el subset de datos de prueba (test)\n",
    "y_pred1 = myTree1.predict(x_test)"
   ]
  },
  {
   "cell_type": "code",
   "execution_count": null,
   "metadata": {},
   "outputs": [],
   "source": [
    "#Parametros con Gini y Max_depth 5\n",
    "myTree2 = DecisionTreeClassifier(criterion=\"gini\", max_depth = 5)\n",
    "#Se entrena el Decision Tree Classifier\n",
    "myTree2.fit(x_train,y_train)\n",
    "#Aqui se predice la respuesta para el subset de datos de prueba (test)\n",
    "y_pred2 = myTree2.predict(x_test)"
   ]
  },
  {
   "cell_type": "code",
   "execution_count": null,
   "metadata": {},
   "outputs": [],
   "source": [
    "#Parametros con Gini y Max_depth 5\n",
    "myTree3 = DecisionTreeClassifier(criterion=\"entropy\", max_depth=5)\n",
    "#Se entrena el Decision Tree Classifier\n",
    "myTree3.fit(x_train,y_train)\n",
    "#Aqui se predice la respuesta para el subset de datos de prueba (test)\n",
    "y_pred3 = myTree3.predict(x_test)"
   ]
  },
  {
   "cell_type": "markdown",
   "metadata": {},
   "source": [
    "## Creacion visual de los arboles"
   ]
  },
  {
   "cell_type": "code",
   "execution_count": null,
   "metadata": {},
   "outputs": [],
   "source": [
    "#Aqui se puede visualizar el arbol creado pero en forma de texto\n",
    "print(tree.export_text(myTree1))"
   ]
  },
  {
   "cell_type": "code",
   "execution_count": null,
   "metadata": {},
   "outputs": [],
   "source": [
    "#Aqui se puede visualizar el arbol creado pero en forma de grafico\n",
    "tree.plot_tree(myTree1)"
   ]
  },
  {
   "cell_type": "markdown",
   "metadata": {},
   "source": [
    "## Resultados"
   ]
  },
  {
   "cell_type": "code",
   "execution_count": null,
   "metadata": {},
   "outputs": [],
   "source": [
    "myTree1.score(x_test, y_test)"
   ]
  },
  {
   "cell_type": "code",
   "execution_count": null,
   "metadata": {},
   "outputs": [],
   "source": [
    "myTree2.score(x_test, y_test)"
   ]
  },
  {
   "cell_type": "code",
   "execution_count": null,
   "metadata": {},
   "outputs": [],
   "source": [
    "myTree3.score(x_test, y_test)"
   ]
  }
 ],
 "metadata": {
  "language_info": {
   "name": "python"
  },
  "orig_nbformat": 4
 },
 "nbformat": 4,
 "nbformat_minor": 2
}
