{
 "cells": [
  {
   "cell_type": "markdown",
   "metadata": {},
   "source": [
    "# Uso de framework o biblioteca de aprendizaje máquina para la implementación de una solución"
   ]
  },
  {
   "cell_type": "code",
   "execution_count": 3,
   "metadata": {},
   "outputs": [],
   "source": [
    "# Importacion de librerias\n",
    "import pandas as pd\n",
    "from sklearn import tree\n",
    "from sklearn.tree import DecisionTreeClassifier\n",
    "from sklearn.model_selection import train_test_split\n",
    "from sklearn.metrics import accuracy_score, confusion_matrix, f1_score"
   ]
  },
  {
   "cell_type": "code",
   "execution_count": 4,
   "metadata": {},
   "outputs": [
    {
     "name": "stdout",
     "output_type": "stream",
     "text": [
      "<class 'pandas.core.frame.DataFrame'>\n",
      "RangeIndex: 768 entries, 0 to 767\n",
      "Data columns (total 9 columns):\n",
      " #   Column                    Non-Null Count  Dtype  \n",
      "---  ------                    --------------  -----  \n",
      " 0   Pregnancies               768 non-null    int64  \n",
      " 1   Glucose                   768 non-null    int64  \n",
      " 2   BloodPressure             768 non-null    int64  \n",
      " 3   SkinThickness             768 non-null    int64  \n",
      " 4   Insulin                   768 non-null    int64  \n",
      " 5   BMI                       768 non-null    float64\n",
      " 6   DiabetesPedigreeFunction  768 non-null    float64\n",
      " 7   Age                       768 non-null    int64  \n",
      " 8   Outcome                   768 non-null    int64  \n",
      "dtypes: float64(2), int64(7)\n",
      "memory usage: 54.1 KB\n"
     ]
    }
   ],
   "source": [
    "#Lectura de dataset \"diabetes_dataset.csv\"\n",
    "df = pd.read_csv(\"diabetes_dataset.csv\")\n",
    "df.info()"
   ]
  },
  {
   "cell_type": "code",
   "execution_count": 5,
   "metadata": {},
   "outputs": [],
   "source": [
    "# Se hace la division de las columnas para poder obtener los datos necesarios para hacer el entrenamiento y las pruebas\n",
    "x = df.drop([\"Outcome\"], axis=1)\n",
    "y = df.Outcome"
   ]
  },
  {
   "cell_type": "markdown",
   "metadata": {},
   "source": [
    "## Entrenamiento"
   ]
  },
  {
   "cell_type": "code",
   "execution_count": 6,
   "metadata": {},
   "outputs": [],
   "source": [
    "#Aplicando la separacion de los datos para el test y el train\n",
    "x_train, x_test, y_train, y_test = train_test_split(x, y, test_size=0.2, random_state=42)"
   ]
  },
  {
   "cell_type": "code",
   "execution_count": 7,
   "metadata": {},
   "outputs": [],
   "source": [
    "#Parametros con Entropy y Max_depth 4\n",
    "myTree1 = DecisionTreeClassifier(criterion=\"entropy\", max_depth = 4)\n",
    "#Se entrena el Decision Tree Classifier\n",
    "myTree1.fit(x_train,y_train)\n",
    "#Aqui se predice la respuesta para el subset de datos de prueba (test)\n",
    "y_pred1 = myTree1.predict(x_test)"
   ]
  },
  {
   "cell_type": "code",
   "execution_count": 8,
   "metadata": {},
   "outputs": [],
   "source": [
    "#Parametros con Gini y Max_depth 5\n",
    "myTree2 = DecisionTreeClassifier(criterion=\"gini\", max_depth = 5)\n",
    "#Se entrena el Decision Tree Classifier\n",
    "myTree2.fit(x_train,y_train)\n",
    "#Aqui se predice la respuesta para el subset de datos de prueba (test)\n",
    "y_pred2 = myTree2.predict(x_test)"
   ]
  },
  {
   "cell_type": "code",
   "execution_count": 9,
   "metadata": {},
   "outputs": [],
   "source": [
    "#Parametros con Gini y Max_depth 5\n",
    "myTree3 = DecisionTreeClassifier(criterion=\"entropy\", max_depth=5)\n",
    "#Se entrena el Decision Tree Classifier\n",
    "myTree3.fit(x_train,y_train)\n",
    "#Aqui se predice la respuesta para el subset de datos de prueba (test)\n",
    "y_pred3 = myTree3.predict(x_test)"
   ]
  },
  {
   "cell_type": "markdown",
   "metadata": {},
   "source": [
    "## Creacion visual de los arboles"
   ]
  },
  {
   "cell_type": "code",
   "execution_count": 10,
   "metadata": {},
   "outputs": [
    {
     "name": "stdout",
     "output_type": "stream",
     "text": [
      "|--- feature_1 <= 127.50\n",
      "|   |--- feature_7 <= 28.50\n",
      "|   |   |--- feature_5 <= 30.95\n",
      "|   |   |   |--- feature_6 <= 0.67\n",
      "|   |   |   |   |--- class: 0\n",
      "|   |   |   |--- feature_6 >  0.67\n",
      "|   |   |   |   |--- class: 0\n",
      "|   |   |--- feature_5 >  30.95\n",
      "|   |   |   |--- feature_2 <= 37.00\n",
      "|   |   |   |   |--- class: 1\n",
      "|   |   |   |--- feature_2 >  37.00\n",
      "|   |   |   |   |--- class: 0\n",
      "|   |--- feature_7 >  28.50\n",
      "|   |   |--- feature_5 <= 26.35\n",
      "|   |   |   |--- feature_5 <= 9.65\n",
      "|   |   |   |   |--- class: 1\n",
      "|   |   |   |--- feature_5 >  9.65\n",
      "|   |   |   |   |--- class: 0\n",
      "|   |   |--- feature_5 >  26.35\n",
      "|   |   |   |--- feature_1 <= 94.50\n",
      "|   |   |   |   |--- class: 0\n",
      "|   |   |   |--- feature_1 >  94.50\n",
      "|   |   |   |   |--- class: 1\n",
      "|--- feature_1 >  127.50\n",
      "|   |--- feature_5 <= 29.95\n",
      "|   |   |--- feature_1 <= 145.50\n",
      "|   |   |   |--- feature_0 <= 2.50\n",
      "|   |   |   |   |--- class: 0\n",
      "|   |   |   |--- feature_0 >  2.50\n",
      "|   |   |   |   |--- class: 0\n",
      "|   |   |--- feature_1 >  145.50\n",
      "|   |   |   |--- feature_7 <= 62.00\n",
      "|   |   |   |   |--- class: 1\n",
      "|   |   |   |--- feature_7 >  62.00\n",
      "|   |   |   |   |--- class: 0\n",
      "|   |--- feature_5 >  29.95\n",
      "|   |   |--- feature_1 <= 165.50\n",
      "|   |   |   |--- feature_2 <= 91.00\n",
      "|   |   |   |   |--- class: 1\n",
      "|   |   |   |--- feature_2 >  91.00\n",
      "|   |   |   |   |--- class: 1\n",
      "|   |   |--- feature_1 >  165.50\n",
      "|   |   |   |--- feature_0 <= 2.50\n",
      "|   |   |   |   |--- class: 1\n",
      "|   |   |   |--- feature_0 >  2.50\n",
      "|   |   |   |   |--- class: 1\n",
      "\n"
     ]
    }
   ],
   "source": [
    "#Aqui se puede visualizar el arbol creado pero en forma de texto\n",
    "print(tree.export_text(myTree1))"
   ]
  },
  {
   "cell_type": "code",
   "execution_count": 11,
   "metadata": {},
   "outputs": [
    {
     "data": {
      "text/plain": [
       "[Text(0.5, 0.9, 'x[1] <= 127.5\\nentropy = 0.931\\nsamples = 614\\nvalue = [401, 213]'),\n",
       " Text(0.25, 0.7, 'x[7] <= 28.5\\nentropy = 0.712\\nsamples = 390\\nvalue = [314, 76]'),\n",
       " Text(0.125, 0.5, 'x[5] <= 30.95\\nentropy = 0.391\\nsamples = 221\\nvalue = [204, 17]'),\n",
       " Text(0.0625, 0.3, 'x[6] <= 0.672\\nentropy = 0.068\\nsamples = 124\\nvalue = [123, 1]'),\n",
       " Text(0.03125, 0.1, 'entropy = 0.0\\nsamples = 108\\nvalue = [108, 0]'),\n",
       " Text(0.09375, 0.1, 'entropy = 0.337\\nsamples = 16\\nvalue = [15, 1]'),\n",
       " Text(0.1875, 0.3, 'x[2] <= 37.0\\nentropy = 0.646\\nsamples = 97\\nvalue = [81, 16]'),\n",
       " Text(0.15625, 0.1, 'entropy = 0.0\\nsamples = 2\\nvalue = [0, 2]'),\n",
       " Text(0.21875, 0.1, 'entropy = 0.603\\nsamples = 95\\nvalue = [81, 14]'),\n",
       " Text(0.375, 0.5, 'x[5] <= 26.35\\nentropy = 0.933\\nsamples = 169\\nvalue = [110, 59]'),\n",
       " Text(0.3125, 0.3, 'x[5] <= 9.65\\nentropy = 0.191\\nsamples = 34\\nvalue = [33, 1]'),\n",
       " Text(0.28125, 0.1, 'entropy = 0.0\\nsamples = 1\\nvalue = [0, 1]'),\n",
       " Text(0.34375, 0.1, 'entropy = 0.0\\nsamples = 33\\nvalue = [33, 0]'),\n",
       " Text(0.4375, 0.3, 'x[1] <= 94.5\\nentropy = 0.986\\nsamples = 135\\nvalue = [77, 58]'),\n",
       " Text(0.40625, 0.1, 'entropy = 0.555\\nsamples = 31\\nvalue = [27, 4]'),\n",
       " Text(0.46875, 0.1, 'entropy = 0.999\\nsamples = 104\\nvalue = [50, 54]'),\n",
       " Text(0.75, 0.7, 'x[5] <= 29.95\\nentropy = 0.964\\nsamples = 224\\nvalue = [87, 137]'),\n",
       " Text(0.625, 0.5, 'x[1] <= 145.5\\nentropy = 0.895\\nsamples = 61\\nvalue = [42, 19]'),\n",
       " Text(0.5625, 0.3, 'x[0] <= 2.5\\nentropy = 0.533\\nsamples = 33\\nvalue = [29, 4]'),\n",
       " Text(0.53125, 0.1, 'entropy = 0.0\\nsamples = 13\\nvalue = [13, 0]'),\n",
       " Text(0.59375, 0.1, 'entropy = 0.722\\nsamples = 20\\nvalue = [16, 4]'),\n",
       " Text(0.6875, 0.3, 'x[7] <= 62.0\\nentropy = 0.996\\nsamples = 28\\nvalue = [13, 15]'),\n",
       " Text(0.65625, 0.1, 'entropy = 0.971\\nsamples = 25\\nvalue = [10, 15]'),\n",
       " Text(0.71875, 0.1, 'entropy = 0.0\\nsamples = 3\\nvalue = [3, 0]'),\n",
       " Text(0.875, 0.5, 'x[1] <= 165.5\\nentropy = 0.85\\nsamples = 163\\nvalue = [45, 118]'),\n",
       " Text(0.8125, 0.3, 'x[2] <= 91.0\\nentropy = 0.951\\nsamples = 108\\nvalue = [40, 68]'),\n",
       " Text(0.78125, 0.1, 'entropy = 0.973\\nsamples = 99\\nvalue = [40, 59]'),\n",
       " Text(0.84375, 0.1, 'entropy = 0.0\\nsamples = 9\\nvalue = [0, 9]'),\n",
       " Text(0.9375, 0.3, 'x[0] <= 2.5\\nentropy = 0.439\\nsamples = 55\\nvalue = [5, 50]'),\n",
       " Text(0.90625, 0.1, 'entropy = 0.0\\nsamples = 18\\nvalue = [0, 18]'),\n",
       " Text(0.96875, 0.1, 'entropy = 0.571\\nsamples = 37\\nvalue = [5, 32]')]"
      ]
     },
     "execution_count": 11,
     "metadata": {},
     "output_type": "execute_result"
    },
    {
     "data": {
      "image/png": "[encoded data removed]",
      "text/plain": [
       "<Figure size 640x480 with 1 Axes>"
      ]
     },
     "metadata": {},
     "output_type": "display_data"
    }
   ],
   "source": [
    "#Aqui se puede visualizar el arbol creado pero en forma de grafico\n",
    "tree.plot_tree(myTree1)"
   ]
  },
  {
   "cell_type": "markdown",
   "metadata": {},
   "source": [
    "## Resultados"
   ]
  },
  {
   "cell_type": "code",
   "execution_count": 12,
   "metadata": {},
   "outputs": [
    {
     "data": {
      "text/plain": [
       "0.7142857142857143"
      ]
     },
     "execution_count": 12,
     "metadata": {},
     "output_type": "execute_result"
    }
   ],
   "source": [
    "myTree1.score(x_test, y_test)"
   ]
  },
  {
   "cell_type": "code",
   "execution_count": 13,
   "metadata": {},
   "outputs": [
    {
     "data": {
      "text/plain": [
       "0.7922077922077922"
      ]
     },
     "execution_count": 13,
     "metadata": {},
     "output_type": "execute_result"
    }
   ],
   "source": [
    "myTree2.score(x_test, y_test)"
   ]
  },
  {
   "cell_type": "code",
   "execution_count": 14,
   "metadata": {},
   "outputs": [
    {
     "data": {
      "text/plain": [
       "0.7857142857142857"
      ]
     },
     "execution_count": 14,
     "metadata": {},
     "output_type": "execute_result"
    }
   ],
   "source": [
    "myTree3.score(x_test, y_test)"
   ]
  }
 ],
 "metadata": {
  "kernelspec": {
   "display_name": "base",
   "language": "python",
   "name": "python3"
  },
  "language_info": {
   "codemirror_mode": {
    "name": "ipython",
    "version": 3
   },
   "file_extension": ".py",
   "mimetype": "text/x-python",
   "name": "python",
   "nbconvert_exporter": "python",
   "pygments_lexer": "ipython3",
   "version": "3.10.9"
  },
  "orig_nbformat": 4
 },
 "nbformat": 4,
 "nbformat_minor": 2
}
