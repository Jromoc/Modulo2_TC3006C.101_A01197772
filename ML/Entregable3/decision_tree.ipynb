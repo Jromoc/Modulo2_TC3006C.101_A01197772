{
 "cells": [
  {
   "cell_type": "markdown",
   "metadata": {},
   "source": [
    "# Decision Tree Classifier"
   ]
  },
  {
   "cell_type": "code",
   "execution_count": 1,
   "metadata": {},
   "outputs": [],
   "source": [
    "# Importacion de librerias\n",
    "import pandas as pd\n",
    "import numpy as np\n",
    "from sklearn import tree\n",
    "from sklearn.metrics import explained_variance_score\n",
    "from sklearn.tree import DecisionTreeClassifier\n",
    "from sklearn.model_selection import train_test_split\n",
    "from sklearn.metrics import accuracy_score, confusion_matrix, f1_score\n"
   ]
  },
  {
   "cell_type": "code",
   "execution_count": 2,
   "metadata": {},
   "outputs": [
    {
     "data": {
      "text/html": [
       "<div>\n",
       "<style scoped>\n",
       "    .dataframe tbody tr th:only-of-type {\n",
       "        vertical-align: middle;\n",
       "    }\n",
       "\n",
       "    .dataframe tbody tr th {\n",
       "        vertical-align: top;\n",
       "    }\n",
       "\n",
       "    .dataframe thead th {\n",
       "        text-align: right;\n",
       "    }\n",
       "</style>\n",
       "<table border=\"1\" class=\"dataframe\">\n",
       "  <thead>\n",
       "    <tr style=\"text-align: right;\">\n",
       "      <th></th>\n",
       "      <th>sepal length</th>\n",
       "      <th>sepal width</th>\n",
       "      <th>petal length</th>\n",
       "      <th>petal width</th>\n",
       "      <th>class</th>\n",
       "    </tr>\n",
       "  </thead>\n",
       "  <tbody>\n",
       "  </tbody>\n",
       "</table>\n",
       "</div>"
      ],
      "text/plain": [
       "Empty DataFrame\n",
       "Columns: [sepal length, sepal width, petal length, petal width, class]\n",
       "Index: []"
      ]
     },
     "execution_count": 2,
     "metadata": {},
     "output_type": "execute_result"
    }
   ],
   "source": [
    "#Lectura del dataset\n",
    "columns = [\"sepal length\",\"sepal width\",\"petal length\",\"petal width\", \"class\"] # definir nombres de columna manualmente\n",
    "df = pd.read_csv('iris.data',names = columns) # abrir el archivo de datos con los nombres dados para las columnas\n",
    "df.head()"
   ]
  },
  {
   "cell_type": "code",
   "execution_count": 3,
   "metadata": {},
   "outputs": [
    {
     "name": "stdout",
     "output_type": "stream",
     "text": [
      "Series([], Name: class, dtype: object)\n",
      "Empty DataFrame\n",
      "Columns: [sepal length, sepal width, petal length, petal width]\n",
      "Index: []\n"
     ]
    }
   ],
   "source": [
    "# Se hace la division de las columnas para poder obtener los datos necesarios para hacer el entrenamiento y las pruebas\n",
    "columnas = [\"sepal length\",\"sepal width\",\"petal length\",\"petal width\"]\n",
    "X = df[columnas]\n",
    "Y = df['class']\n",
    "print(Y)\n",
    "print(X)"
   ]
  },
  {
   "cell_type": "code",
   "execution_count": null,
   "metadata": {},
   "outputs": [],
   "source": [
    "#Aplicando la separacion de los datos para el test, el train y la validacion\n",
    "X_train, X_test, Y_train, Y_test = train_test_split(X, Y, test_size=0.2, random_state=30) # 80% training and 20% test"
   ]
  },
  {
   "cell_type": "markdown",
   "metadata": {},
   "source": [
    "## Arbol 1"
   ]
  },
  {
   "cell_type": "code",
   "execution_count": null,
   "metadata": {},
   "outputs": [],
   "source": [
    "#Se crea el arbol de decision donde se puede hacer modificaciones para los parametros\n",
    "myTree1 = DecisionTreeClassifier(criterion=\"gini\")\n",
    "#Se entrena el Decision Tree Classifier\n",
    "myTree1.fit(X_train, Y_train)\n",
    "#Aqui se predice la respuesta para el subset de datos de prueba (test)\n",
    "Y_pred1 = myTree1.predict(X_test)"
   ]
  },
  {
   "cell_type": "code",
   "execution_count": null,
   "metadata": {},
   "outputs": [],
   "source": [
    "#Aqui se puede visualizar el arbol creado pero en forma de texto\n",
    "print(tree.export_text(myTree1))"
   ]
  },
  {
   "cell_type": "code",
   "execution_count": null,
   "metadata": {},
   "outputs": [],
   "source": [
    "#Aqui se puede visualizar el arbol creado pero en forma de grafico\n",
    "tree.plot_tree(myTree1)"
   ]
  },
  {
   "cell_type": "markdown",
   "metadata": {},
   "source": [
    "Accuracy con los datos test"
   ]
  },
  {
   "cell_type": "code",
   "execution_count": null,
   "metadata": {},
   "outputs": [],
   "source": [
    "# Parametros Entropy\n",
    "myTree1.score(X_test, Y_test)"
   ]
  },
  {
   "cell_type": "code",
   "execution_count": null,
   "metadata": {},
   "outputs": [],
   "source": [
    "# Evaluacion del modelo entrenado \n",
    "Y_pred_test = myTree1.predict(X_test)\n",
    "accuracy_test = accuracy_score(Y_test, Y_pred_test)\n",
    "confusion_matrix_test = confusion_matrix(Y_test, Y_pred_test)\n",
    "f1_score_test = f1_score(Y_test, Y_pred_test, average='weighted')"
   ]
  },
  {
   "cell_type": "code",
   "execution_count": null,
   "metadata": {},
   "outputs": [],
   "source": [
    "print(\"Accuracy:\", accuracy_test)\n",
    "print(\"F1 Score:\", f1_score_test)\n",
    "print(\"Matriz de confusion: \\n\", confusion_matrix_test)"
   ]
  },
  {
   "cell_type": "markdown",
   "metadata": {},
   "source": [
    "## Arbol 2"
   ]
  },
  {
   "cell_type": "code",
   "execution_count": null,
   "metadata": {},
   "outputs": [],
   "source": [
    "#Se crea el arbol de decision donde se puede hacer modificaciones para los parametros\n",
    "myTree2 = DecisionTreeClassifier(criterion=\"entropy\", max_depth = 3)\n",
    "#Se entrena el Decision Tree Classifier\n",
    "myTree2.fit(X_train, Y_train)\n",
    "#Aqui se predice la respuesta para el subset de datos de prueba (test)\n",
    "Y_pred2 = myTree2.predict(X_test)"
   ]
  },
  {
   "cell_type": "code",
   "execution_count": null,
   "metadata": {},
   "outputs": [],
   "source": [
    "print(tree.export_text(myTree2))"
   ]
  },
  {
   "cell_type": "code",
   "execution_count": null,
   "metadata": {},
   "outputs": [],
   "source": [
    "tree.plot_tree(myTree2)"
   ]
  },
  {
   "cell_type": "code",
   "execution_count": null,
   "metadata": {},
   "outputs": [],
   "source": [
    "#Parametros con Gini y Max_depth 3\n",
    "myTree2.score(X_test, Y_test)"
   ]
  },
  {
   "cell_type": "code",
   "execution_count": null,
   "metadata": {},
   "outputs": [],
   "source": [
    "# Evaluacion del modelo entrenado \n",
    "Y_pred_test2 = myTree2.predict(X_test)\n",
    "accuracy_test2 = accuracy_score(Y_test, Y_pred_test)\n",
    "confusion_matrix_test2 = confusion_matrix(Y_test, Y_pred_test)\n",
    "f1_score_test2 = f1_score(Y_test, Y_pred_test, average='weighted')"
   ]
  },
  {
   "cell_type": "code",
   "execution_count": null,
   "metadata": {},
   "outputs": [],
   "source": [
    "print(\"Accuracy:\", accuracy_test2)\n",
    "print(\"F1 Score:\", f1_score_test2)\n",
    "print(\"Matriz de confusion: \\n\", confusion_matrix_test2)"
   ]
  },
  {
   "cell_type": "markdown",
   "metadata": {},
   "source": [
    "Ahora sigue realizar algunos cambios a los arboles con el fin de buscar que nos den resultados diferentes a los anteriormente ya obtenidos\n"
   ]
  },
  {
   "cell_type": "markdown",
   "metadata": {},
   "source": [
    "## Validacion"
   ]
  },
  {
   "cell_type": "code",
   "execution_count": null,
   "metadata": {},
   "outputs": [],
   "source": [
    "# Se hace nuevamente la division de los datos para tener training, test y ahora tambien se le agregara validacion\n",
    "X_train, X_temp, Y_train, Y_temp = train_test_split(X,Y, test_size = 0.2, random_state = 30)\n",
    "X_test, X_valid, Y_test, Y_valid = train_test_split(X_temp, Y_temp, test_size = 0.5, random_state = 30)"
   ]
  },
  {
   "cell_type": "code",
   "execution_count": null,
   "metadata": {},
   "outputs": [],
   "source": [
    "myTree_valid = DecisionTreeClassifier(criterion=\"entropy\", max_depth=3)\n",
    "myTree_valid.fit(X_train, Y_train)\n",
    "Y_predic_valid = myTree_valid.predict(X_temp)"
   ]
  },
  {
   "cell_type": "code",
   "execution_count": null,
   "metadata": {},
   "outputs": [],
   "source": [
    "print(tree.export_text(myTree_valid))"
   ]
  },
  {
   "cell_type": "code",
   "execution_count": null,
   "metadata": {},
   "outputs": [],
   "source": [
    "tree.plot_tree(myTree_valid)"
   ]
  },
  {
   "cell_type": "code",
   "execution_count": null,
   "metadata": {},
   "outputs": [],
   "source": [
    "#Evaluacion con la validacion\n",
    "Y_pred_valid = myTree_valid.predict(X_valid)\n",
    "accuracy_valid = accuracy_score(Y_valid, Y_pred_valid)\n",
    "confusion_matrix_valid = confusion_matrix(Y_valid, Y_pred_valid)\n",
    "f1_score_valid = f1_score(Y_valid, Y_pred_valid, average='weighted')"
   ]
  },
  {
   "cell_type": "code",
   "execution_count": null,
   "metadata": {},
   "outputs": [],
   "source": [
    "#Parametros con criterion=\"entropy\", max_depth=3\n",
    "myTree_valid.score(X_test, Y_test)"
   ]
  },
  {
   "cell_type": "code",
   "execution_count": null,
   "metadata": {},
   "outputs": [],
   "source": [
    "print(\"Accuracy:\", accuracy_valid)\n",
    "print(\"F1 Score:\", f1_score_valid)\n",
    "print(\"Matriz de confusion: \\n\", confusion_matrix_valid)"
   ]
  },
  {
   "cell_type": "code",
   "execution_count": null,
   "metadata": {},
   "outputs": [],
   "source": [
    "# Cambiamos las etiquetas a numeros ya que la varianza requiere valores numéricos, y el dataset tiene strings como etiquetas.\n",
    "class_to_number = {'Iris-setosa': 0, 'Iris-versicolor': 1, 'Iris-virginica': 2}\n",
    "\n",
    "# Aplicamos el cambio en las predicciones, para que ahora sean valores numericos\n",
    "y_pred1_Num = [class_to_number[label] for label in Y_pred1]\n",
    "y_pred2_Num = [class_to_number[label] for label in Y_pred2]\n",
    "y_pred_ValNum = [class_to_number[label] for label in Y_pred_valid]\n",
    "\n",
    "\n",
    "# Calculamos la varianza ahora que tenemos los valores de forma numérica\n",
    "varianza1 = np.var(y_pred1_Num)\n",
    "varianza2 = np.var(y_pred2_Num)\n",
    "varianzaVal = np.var(y_pred_ValNum)\n",
    "\n",
    "\n",
    "# Creamos una tabla para visualizar de una manera más clara la varianza de cada una de las pruebas.\n",
    "variance_data = {\n",
    "    'Modelo': ['Gini', 'Entropy y Max Depth  (Random State 30)', 'Validación'],\n",
    "    'Varianza': [varianza1, varianza2, varianzaVal]\n",
    "}\n",
    "\n",
    "varianzaDF = pd.DataFrame(variance_data)\n",
    "print(varianzaDF)"
   ]
  },
  {
   "cell_type": "markdown",
   "metadata": {},
   "source": [
    "## Conclusiones"
   ]
  },
  {
   "cell_type": "markdown",
   "metadata": {},
   "source": [
    "Al realizar las dos primeras pruebas, donde el primer arbol contenia un criterio de gini, y el segundo arbol contenia de parametros como creiterio entropy y max_depth = 3.\n",
    "\n",
    "myTree1 -- criterion = \"gini\"\n",
    "- Socre: 0.93 \n",
    "- Accuracy: 0.93\n",
    "- F1-score: 0.93\n",
    "Matriz de confucion:\n",
    "[[12 0 0]\n",
    " [0 8 1]\n",
    " [0 1 8]]\n",
    "\n",
    "myTree2 -- criterion = \"entropy\" y max_depth = 3\n",
    "- Socre: 0.97\n",
    "- Accuracy: 0.93\n",
    "- F1-score: 0.93\n",
    "Matriz de confucion:\n",
    "[[12 0 0]\n",
    " [0 8 1]\n",
    " [0 1 8]]\n",
    "\n",
    "\n",
    "myTree_valid -- criterion = \"entropy\" y max_depth = 3\n",
    "- Socre: 1\n",
    "- Accuracy: 0.93\n",
    "- F1-score: 0.93\n",
    "Matriz de confucion:\n",
    "[[6 0 0]\n",
    " [0 4 1]\n",
    " [0 0 4]]\n",
    "\n",
    "Lo que podemos concluir de esto es con la validacion es que se tiene un sego bajo, que en otras palabras se puede decir que se tiene un ajuste buen de los datos, aunque aun se puede mejorar para que el modelo sea aun mas preciso. Tampoco se puede considerar que el modelo tenga ni Overfitting ni Underfitting, ya que al igual en lo anterior explicado, los datos son buenos aunque existe margen de mejora.\n",
    "\n",
    "\n",
    "Al realizar la validacion se obtiene un grado de variaza relativamente bueno, se puediera simplificar diciendo que es \"medio\" al tener un grado de 0.7289"
   ]
  }
 ],
 "metadata": {
  "kernelspec": {
   "display_name": "base",
   "language": "python",
   "name": "python3"
  },
  "language_info": {
   "codemirror_mode": {
    "name": "ipython",
    "version": 3
   },
   "file_extension": ".py",
   "mimetype": "text/x-python",
   "name": "python",
   "nbconvert_exporter": "python",
   "pygments_lexer": "ipython3",
   "version": "3.10.9"
  },
  "orig_nbformat": 4
 },
 "nbformat": 4,
 "nbformat_minor": 2
}
